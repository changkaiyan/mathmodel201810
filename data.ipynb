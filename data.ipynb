{
 "cells": [
  {
   "cell_type": "code",
   "execution_count": null,
   "metadata": {
    "scrolled": true
   },
   "outputs": [],
   "source": [
    "import pandas as pd\n",
    "import numpy as np\n",
    "raw_data=pd.read_csv(\"datar.csv\")\n",
    "temp=set(raw_data['icon'])\n",
    "size_mapping={label:index for index, label in enumerate(temp)}\n",
    "raw_data['icon']=raw_data['icon'].map(size_mapping)\n",
    "sigma=0.1\n",
    "mu=26\n",
    "wanttochange=np.random.normal(mu,sigma,raw_data.shape[0])\n",
    "raw_data['wantToChange']=wanttochange\n",
    "raw_data[raw_data.isnull().values==True]#查看缺失值\n",
    "raw_data['pressure'].fillna(raw_data['pressure'].mean())\n",
    "raw_data['windBearing'].fillna(raw_data['windBearing'].mean())\n",
    "raw_data['windSpeed'].fillna(raw_data['windSpeed'].mean())\n",
    "raw_data.to_csv('datanoraw.csv',index=False)\n",
    "print(raw_data)"
   ]
  }
 ],
 "metadata": {
  "kernelspec": {
   "display_name": "Python 3",
   "language": "python",
   "name": "python3"
  },
  "language_info": {
   "codemirror_mode": {
    "name": "ipython",
    "version": 3
   },
   "file_extension": ".py",
   "mimetype": "text/x-python",
   "name": "python",
   "nbconvert_exporter": "python",
   "pygments_lexer": "ipython3",
   "version": "3.6.5"
  }
 },
 "nbformat": 4,
 "nbformat_minor": 2
}
