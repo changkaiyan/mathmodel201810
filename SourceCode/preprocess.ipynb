{
 "cells": [
  {
   "cell_type": "code",
   "execution_count": null,
   "metadata": {
    "scrolled": true
   },
   "outputs": [],
   "source": [
    "import numpy as np\n",
    "import pandas as pd\n",
    "import matplotlib.pyplot as plt\n",
    "import seaborn as sns\n",
    "import scipy as sci\n",
    "raw_data=pd.read_csv(\"datar.csv\")\n",
    "temp=set(raw_data['icon'])\n",
    "print(temp)\n",
    "size_mapping={label:index for index, label in enumerate(temp)}\n",
    "raw_data['icon']=raw_data['icon'].map(size_mapping)\n",
    "sigma=0.2\n",
    "mu=0\n",
    "wanttochange=0.607*raw_data['temperature'].values+10.092+np.random.normal(mu,sigma,raw_data.shape[0])\n",
    "raw_data['wantToChange']=wanttochange\n",
    "raw_data[raw_data.isnull().values==True]#查看缺失值\n",
    "raw_data['pressure']=raw_data['pressure'].fillna(raw_data['pressure'].mean())\n",
    "raw_data['windBearing']=raw_data['windBearing'].fillna(raw_data['windBearing'].mean())\n",
    "raw_data['windSpeed']=raw_data['windSpeed'].fillna(raw_data['windSpeed'].mean())\n",
    "raw_data.sort_values(by=\"time\")\n",
    "raw_data.to_csv('datanoraw.csv',index=False)\n",
    "sns.pairplot(raw_data,diag_kind='kde')\n",
    "plt.savefig('datasetprocessingpairplot1')\n",
    "\n",
    "for i in raw_data.columns:\n",
    "    for j in raw_data.columns:\n",
    "        sns.boxplot(x=str(i), y=str(j), data=raw_data)\n",
    "        plt.savefig(\"箱子\"+i+j)\n",
    "\n",
    "raw_data\n",
    "\n",
    "        \n",
    "\n"
   ]
  },
  {
   "cell_type": "code",
   "execution_count": null,
   "metadata": {},
   "outputs": [],
   "source": []
  },
  {
   "cell_type": "code",
   "execution_count": null,
   "metadata": {},
   "outputs": [],
   "source": []
  }
 ],
 "metadata": {
  "kernelspec": {
   "display_name": "Python 3",
   "language": "python",
   "name": "python3"
  },
  "language_info": {
   "codemirror_mode": {
    "name": "ipython",
    "version": 3
   },
   "file_extension": ".py",
   "mimetype": "text/x-python",
   "name": "python",
   "nbconvert_exporter": "python",
   "pygments_lexer": "ipython3",
   "version": "3.6.5"
  }
 },
 "nbformat": 4,
 "nbformat_minor": 2
}
